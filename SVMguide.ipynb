{
  "nbformat": 4,
  "nbformat_minor": 0,
  "metadata": {
    "colab": {
      "provenance": []
    },
    "kernelspec": {
      "name": "python3",
      "display_name": "Python 3"
    },
    "language_info": {
      "name": "python"
    }
  },
  "cells": [
    {
      "cell_type": "code",
      "execution_count": null,
      "metadata": {
        "id": "2HUCNxrEIrHb"
      },
      "outputs": [],
      "source": []
    },
    {
      "cell_type": "code",
      "source": [
        "from google.colab import drive\n",
        "drive.mount('/content/drive')"
      ],
      "metadata": {
        "colab": {
          "base_uri": "https://localhost:8080/"
        },
        "id": "inZQYKLMIunu",
        "outputId": "03b6d1bc-bbf0-4048-fb08-cc0567541831"
      },
      "execution_count": 1,
      "outputs": [
        {
          "output_type": "stream",
          "name": "stdout",
          "text": [
            "Mounted at /content/drive\n"
          ]
        }
      ]
    },
    {
      "cell_type": "code",
      "source": [
        "import pandas as pd\n",
        "\n",
        "df=pd.read_csv('/content/drive/MyDrive/SVM.csv',header=None,delimiter=' ')\n",
        "df.head()"
      ],
      "metadata": {
        "colab": {
          "base_uri": "https://localhost:8080/",
          "height": 206
        },
        "id": "WuRYsOA0Iw2v",
        "outputId": "7daead7f-0333-474c-b9bc-b6a3b85c513f"
      },
      "execution_count": 2,
      "outputs": [
        {
          "output_type": "execute_result",
          "data": {
            "text/plain": [
              "   0         1         2         3         4\n",
              "0  1  26.17300   58.8670 -0.189470  125.1225\n",
              "1  1  57.07397  221.4040  0.086080  122.9114\n",
              "2  1  17.25900  173.4360 -0.129805  125.0318\n",
              "3  1  21.77940  124.9531  0.153885  152.7150\n",
              "4  1  91.33997  293.5699  0.142392  160.5402"
            ],
            "text/html": [
              "\n",
              "  <div id=\"df-af3f5332-1743-41bd-b4e3-b9e2fcb635f2\" class=\"colab-df-container\">\n",
              "    <div>\n",
              "<style scoped>\n",
              "    .dataframe tbody tr th:only-of-type {\n",
              "        vertical-align: middle;\n",
              "    }\n",
              "\n",
              "    .dataframe tbody tr th {\n",
              "        vertical-align: top;\n",
              "    }\n",
              "\n",
              "    .dataframe thead th {\n",
              "        text-align: right;\n",
              "    }\n",
              "</style>\n",
              "<table border=\"1\" class=\"dataframe\">\n",
              "  <thead>\n",
              "    <tr style=\"text-align: right;\">\n",
              "      <th></th>\n",
              "      <th>0</th>\n",
              "      <th>1</th>\n",
              "      <th>2</th>\n",
              "      <th>3</th>\n",
              "      <th>4</th>\n",
              "    </tr>\n",
              "  </thead>\n",
              "  <tbody>\n",
              "    <tr>\n",
              "      <th>0</th>\n",
              "      <td>1</td>\n",
              "      <td>26.17300</td>\n",
              "      <td>58.8670</td>\n",
              "      <td>-0.189470</td>\n",
              "      <td>125.1225</td>\n",
              "    </tr>\n",
              "    <tr>\n",
              "      <th>1</th>\n",
              "      <td>1</td>\n",
              "      <td>57.07397</td>\n",
              "      <td>221.4040</td>\n",
              "      <td>0.086080</td>\n",
              "      <td>122.9114</td>\n",
              "    </tr>\n",
              "    <tr>\n",
              "      <th>2</th>\n",
              "      <td>1</td>\n",
              "      <td>17.25900</td>\n",
              "      <td>173.4360</td>\n",
              "      <td>-0.129805</td>\n",
              "      <td>125.0318</td>\n",
              "    </tr>\n",
              "    <tr>\n",
              "      <th>3</th>\n",
              "      <td>1</td>\n",
              "      <td>21.77940</td>\n",
              "      <td>124.9531</td>\n",
              "      <td>0.153885</td>\n",
              "      <td>152.7150</td>\n",
              "    </tr>\n",
              "    <tr>\n",
              "      <th>4</th>\n",
              "      <td>1</td>\n",
              "      <td>91.33997</td>\n",
              "      <td>293.5699</td>\n",
              "      <td>0.142392</td>\n",
              "      <td>160.5402</td>\n",
              "    </tr>\n",
              "  </tbody>\n",
              "</table>\n",
              "</div>\n",
              "    <div class=\"colab-df-buttons\">\n",
              "\n",
              "  <div class=\"colab-df-container\">\n",
              "    <button class=\"colab-df-convert\" onclick=\"convertToInteractive('df-af3f5332-1743-41bd-b4e3-b9e2fcb635f2')\"\n",
              "            title=\"Convert this dataframe to an interactive table.\"\n",
              "            style=\"display:none;\">\n",
              "\n",
              "  <svg xmlns=\"http://www.w3.org/2000/svg\" height=\"24px\" viewBox=\"0 -960 960 960\">\n",
              "    <path d=\"M120-120v-720h720v720H120Zm60-500h600v-160H180v160Zm220 220h160v-160H400v160Zm0 220h160v-160H400v160ZM180-400h160v-160H180v160Zm440 0h160v-160H620v160ZM180-180h160v-160H180v160Zm440 0h160v-160H620v160Z\"/>\n",
              "  </svg>\n",
              "    </button>\n",
              "\n",
              "  <style>\n",
              "    .colab-df-container {\n",
              "      display:flex;\n",
              "      gap: 12px;\n",
              "    }\n",
              "\n",
              "    .colab-df-convert {\n",
              "      background-color: #E8F0FE;\n",
              "      border: none;\n",
              "      border-radius: 50%;\n",
              "      cursor: pointer;\n",
              "      display: none;\n",
              "      fill: #1967D2;\n",
              "      height: 32px;\n",
              "      padding: 0 0 0 0;\n",
              "      width: 32px;\n",
              "    }\n",
              "\n",
              "    .colab-df-convert:hover {\n",
              "      background-color: #E2EBFA;\n",
              "      box-shadow: 0px 1px 2px rgba(60, 64, 67, 0.3), 0px 1px 3px 1px rgba(60, 64, 67, 0.15);\n",
              "      fill: #174EA6;\n",
              "    }\n",
              "\n",
              "    .colab-df-buttons div {\n",
              "      margin-bottom: 4px;\n",
              "    }\n",
              "\n",
              "    [theme=dark] .colab-df-convert {\n",
              "      background-color: #3B4455;\n",
              "      fill: #D2E3FC;\n",
              "    }\n",
              "\n",
              "    [theme=dark] .colab-df-convert:hover {\n",
              "      background-color: #434B5C;\n",
              "      box-shadow: 0px 1px 3px 1px rgba(0, 0, 0, 0.15);\n",
              "      filter: drop-shadow(0px 1px 2px rgba(0, 0, 0, 0.3));\n",
              "      fill: #FFFFFF;\n",
              "    }\n",
              "  </style>\n",
              "\n",
              "    <script>\n",
              "      const buttonEl =\n",
              "        document.querySelector('#df-af3f5332-1743-41bd-b4e3-b9e2fcb635f2 button.colab-df-convert');\n",
              "      buttonEl.style.display =\n",
              "        google.colab.kernel.accessAllowed ? 'block' : 'none';\n",
              "\n",
              "      async function convertToInteractive(key) {\n",
              "        const element = document.querySelector('#df-af3f5332-1743-41bd-b4e3-b9e2fcb635f2');\n",
              "        const dataTable =\n",
              "          await google.colab.kernel.invokeFunction('convertToInteractive',\n",
              "                                                    [key], {});\n",
              "        if (!dataTable) return;\n",
              "\n",
              "        const docLinkHtml = 'Like what you see? Visit the ' +\n",
              "          '<a target=\"_blank\" href=https://colab.research.google.com/notebooks/data_table.ipynb>data table notebook</a>'\n",
              "          + ' to learn more about interactive tables.';\n",
              "        element.innerHTML = '';\n",
              "        dataTable['output_type'] = 'display_data';\n",
              "        await google.colab.output.renderOutput(dataTable, element);\n",
              "        const docLink = document.createElement('div');\n",
              "        docLink.innerHTML = docLinkHtml;\n",
              "        element.appendChild(docLink);\n",
              "      }\n",
              "    </script>\n",
              "  </div>\n",
              "\n",
              "\n",
              "<div id=\"df-74d0867d-77a4-48b2-aeea-a70f8fce4aac\">\n",
              "  <button class=\"colab-df-quickchart\" onclick=\"quickchart('df-74d0867d-77a4-48b2-aeea-a70f8fce4aac')\"\n",
              "            title=\"Suggest charts\"\n",
              "            style=\"display:none;\">\n",
              "\n",
              "<svg xmlns=\"http://www.w3.org/2000/svg\" height=\"24px\"viewBox=\"0 0 24 24\"\n",
              "     width=\"24px\">\n",
              "    <g>\n",
              "        <path d=\"M19 3H5c-1.1 0-2 .9-2 2v14c0 1.1.9 2 2 2h14c1.1 0 2-.9 2-2V5c0-1.1-.9-2-2-2zM9 17H7v-7h2v7zm4 0h-2V7h2v10zm4 0h-2v-4h2v4z\"/>\n",
              "    </g>\n",
              "</svg>\n",
              "  </button>\n",
              "\n",
              "<style>\n",
              "  .colab-df-quickchart {\n",
              "      --bg-color: #E8F0FE;\n",
              "      --fill-color: #1967D2;\n",
              "      --hover-bg-color: #E2EBFA;\n",
              "      --hover-fill-color: #174EA6;\n",
              "      --disabled-fill-color: #AAA;\n",
              "      --disabled-bg-color: #DDD;\n",
              "  }\n",
              "\n",
              "  [theme=dark] .colab-df-quickchart {\n",
              "      --bg-color: #3B4455;\n",
              "      --fill-color: #D2E3FC;\n",
              "      --hover-bg-color: #434B5C;\n",
              "      --hover-fill-color: #FFFFFF;\n",
              "      --disabled-bg-color: #3B4455;\n",
              "      --disabled-fill-color: #666;\n",
              "  }\n",
              "\n",
              "  .colab-df-quickchart {\n",
              "    background-color: var(--bg-color);\n",
              "    border: none;\n",
              "    border-radius: 50%;\n",
              "    cursor: pointer;\n",
              "    display: none;\n",
              "    fill: var(--fill-color);\n",
              "    height: 32px;\n",
              "    padding: 0;\n",
              "    width: 32px;\n",
              "  }\n",
              "\n",
              "  .colab-df-quickchart:hover {\n",
              "    background-color: var(--hover-bg-color);\n",
              "    box-shadow: 0 1px 2px rgba(60, 64, 67, 0.3), 0 1px 3px 1px rgba(60, 64, 67, 0.15);\n",
              "    fill: var(--button-hover-fill-color);\n",
              "  }\n",
              "\n",
              "  .colab-df-quickchart-complete:disabled,\n",
              "  .colab-df-quickchart-complete:disabled:hover {\n",
              "    background-color: var(--disabled-bg-color);\n",
              "    fill: var(--disabled-fill-color);\n",
              "    box-shadow: none;\n",
              "  }\n",
              "\n",
              "  .colab-df-spinner {\n",
              "    border: 2px solid var(--fill-color);\n",
              "    border-color: transparent;\n",
              "    border-bottom-color: var(--fill-color);\n",
              "    animation:\n",
              "      spin 1s steps(1) infinite;\n",
              "  }\n",
              "\n",
              "  @keyframes spin {\n",
              "    0% {\n",
              "      border-color: transparent;\n",
              "      border-bottom-color: var(--fill-color);\n",
              "      border-left-color: var(--fill-color);\n",
              "    }\n",
              "    20% {\n",
              "      border-color: transparent;\n",
              "      border-left-color: var(--fill-color);\n",
              "      border-top-color: var(--fill-color);\n",
              "    }\n",
              "    30% {\n",
              "      border-color: transparent;\n",
              "      border-left-color: var(--fill-color);\n",
              "      border-top-color: var(--fill-color);\n",
              "      border-right-color: var(--fill-color);\n",
              "    }\n",
              "    40% {\n",
              "      border-color: transparent;\n",
              "      border-right-color: var(--fill-color);\n",
              "      border-top-color: var(--fill-color);\n",
              "    }\n",
              "    60% {\n",
              "      border-color: transparent;\n",
              "      border-right-color: var(--fill-color);\n",
              "    }\n",
              "    80% {\n",
              "      border-color: transparent;\n",
              "      border-right-color: var(--fill-color);\n",
              "      border-bottom-color: var(--fill-color);\n",
              "    }\n",
              "    90% {\n",
              "      border-color: transparent;\n",
              "      border-bottom-color: var(--fill-color);\n",
              "    }\n",
              "  }\n",
              "</style>\n",
              "\n",
              "  <script>\n",
              "    async function quickchart(key) {\n",
              "      const quickchartButtonEl =\n",
              "        document.querySelector('#' + key + ' button');\n",
              "      quickchartButtonEl.disabled = true;  // To prevent multiple clicks.\n",
              "      quickchartButtonEl.classList.add('colab-df-spinner');\n",
              "      try {\n",
              "        const charts = await google.colab.kernel.invokeFunction(\n",
              "            'suggestCharts', [key], {});\n",
              "      } catch (error) {\n",
              "        console.error('Error during call to suggestCharts:', error);\n",
              "      }\n",
              "      quickchartButtonEl.classList.remove('colab-df-spinner');\n",
              "      quickchartButtonEl.classList.add('colab-df-quickchart-complete');\n",
              "    }\n",
              "    (() => {\n",
              "      let quickchartButtonEl =\n",
              "        document.querySelector('#df-74d0867d-77a4-48b2-aeea-a70f8fce4aac button');\n",
              "      quickchartButtonEl.style.display =\n",
              "        google.colab.kernel.accessAllowed ? 'block' : 'none';\n",
              "    })();\n",
              "  </script>\n",
              "</div>\n",
              "\n",
              "    </div>\n",
              "  </div>\n"
            ],
            "application/vnd.google.colaboratory.intrinsic+json": {
              "type": "dataframe",
              "variable_name": "df",
              "summary": "{\n  \"name\": \"df\",\n  \"rows\": 3089,\n  \"fields\": [\n    {\n      \"column\": 0,\n      \"properties\": {\n        \"dtype\": \"number\",\n        \"std\": 0,\n        \"min\": 0,\n        \"max\": 1,\n        \"num_unique_values\": 2,\n        \"samples\": [\n          0,\n          1\n        ],\n        \"semantic_type\": \"\",\n        \"description\": \"\"\n      }\n    },\n    {\n      \"column\": 1,\n      \"properties\": {\n        \"dtype\": \"number\",\n        \"std\": 32.85964990406583,\n        \"min\": 0.0,\n        \"max\": 297.05,\n        \"num_unique_values\": 2970,\n        \"samples\": [\n          2.686302,\n          57.35399\n        ],\n        \"semantic_type\": \"\",\n        \"description\": \"\"\n      }\n    },\n    {\n      \"column\": 2,\n      \"properties\": {\n        \"dtype\": \"number\",\n        \"std\": 95.47319065214641,\n        \"min\": -4.555206,\n        \"max\": 581.0731,\n        \"num_unique_values\": 3020,\n        \"samples\": [\n          252.926,\n          97.3697\n        ],\n        \"semantic_type\": \"\",\n        \"description\": \"\"\n      }\n    },\n    {\n      \"column\": 3,\n      \"properties\": {\n        \"dtype\": \"number\",\n        \"std\": 0.24248142498479414,\n        \"min\": -0.7524385,\n        \"max\": 0.7170606,\n        \"num_unique_values\": 3024,\n        \"samples\": [\n          0.4075305,\n          0.2055369\n        ],\n        \"semantic_type\": \"\",\n        \"description\": \"\"\n      }\n    },\n    {\n      \"column\": 4,\n      \"properties\": {\n        \"dtype\": \"number\",\n        \"std\": 38.173493945832604,\n        \"min\": 8.157474,\n        \"max\": 180.0,\n        \"num_unique_values\": 2923,\n        \"samples\": [\n          108.3076,\n          80.65186\n        ],\n        \"semantic_type\": \"\",\n        \"description\": \"\"\n      }\n    }\n  ]\n}"
            }
          },
          "metadata": {},
          "execution_count": 2
        }
      ]
    },
    {
      "cell_type": "code",
      "source": [],
      "metadata": {
        "id": "cThQUABiTL8A"
      },
      "execution_count": 2,
      "outputs": []
    },
    {
      "cell_type": "code",
      "source": [
        "df[0].value_counts()"
      ],
      "metadata": {
        "colab": {
          "base_uri": "https://localhost:8080/"
        },
        "id": "CMjH86s-JJ9S",
        "outputId": "f9b576a5-2a32-4f13-89cc-8f85b1ce9ede"
      },
      "execution_count": 3,
      "outputs": [
        {
          "output_type": "execute_result",
          "data": {
            "text/plain": [
              "0\n",
              "1    2000\n",
              "0    1089\n",
              "Name: count, dtype: int64"
            ]
          },
          "metadata": {},
          "execution_count": 3
        }
      ]
    },
    {
      "cell_type": "code",
      "source": [
        "df.info()"
      ],
      "metadata": {
        "colab": {
          "base_uri": "https://localhost:8080/"
        },
        "id": "oxlGQXqQTvrU",
        "outputId": "41015d81-7f52-4292-cf98-758fb6172bb9"
      },
      "execution_count": 4,
      "outputs": [
        {
          "output_type": "stream",
          "name": "stdout",
          "text": [
            "<class 'pandas.core.frame.DataFrame'>\n",
            "RangeIndex: 3089 entries, 0 to 3088\n",
            "Data columns (total 5 columns):\n",
            " #   Column  Non-Null Count  Dtype  \n",
            "---  ------  --------------  -----  \n",
            " 0   0       3089 non-null   int64  \n",
            " 1   1       3089 non-null   float64\n",
            " 2   2       3089 non-null   float64\n",
            " 3   3       3089 non-null   float64\n",
            " 4   4       3089 non-null   float64\n",
            "dtypes: float64(4), int64(1)\n",
            "memory usage: 120.8 KB\n"
          ]
        }
      ]
    },
    {
      "cell_type": "code",
      "source": [
        "import numpy as np\n",
        "import matplotlib.pyplot as plt\n",
        "from sklearn.datasets import make_blobs\n",
        "from sklearn.cluster import KMeans\n",
        "from sklearn.decomposition import PCA\n",
        "\n",
        "x= df.drop(0,axis=1)\n",
        "y=df.iloc[:,0]\n",
        "# Reduce dimensionality using PCA\n",
        "pca = PCA(n_components=2)\n",
        "X_pca = pca.fit_transform(x)\n",
        "\n",
        "plt.figure(figsize=(8, 6))\n",
        "# Plot with labels\n",
        "plt.figure(figsize=(8, 6))\n",
        "plt.scatter(X_pca[:, 0], X_pca[:, 1], c=y, alpha=0.5)  # Use labels for coloring\n",
        "\n",
        "\n",
        "plt.title('Visualization with Labels (PCA)')\n",
        "plt.xlabel('Principal Component 1')\n",
        "plt.ylabel('Principal Component 2')\n",
        "plt.colorbar(label='Label')\n",
        "plt.show()"
      ],
      "metadata": {
        "colab": {
          "base_uri": "https://localhost:8080/",
          "height": 581
        },
        "id": "7uRbiUOAJtAo",
        "outputId": "a530f66c-60e8-4bc4-ff91-0b2c8f3a28d7"
      },
      "execution_count": 5,
      "outputs": [
        {
          "output_type": "display_data",
          "data": {
            "text/plain": [
              "<Figure size 800x600 with 0 Axes>"
            ]
          },
          "metadata": {}
        },
        {
          "output_type": "display_data",
          "data": {
            "text/plain": [
              "<Figure size 800x600 with 2 Axes>"
            ],
            "image/png": "[encoded data removed]"
          },
          "metadata": {}
        }
      ]
    },
    {
      "cell_type": "code",
      "source": [
        "\n",
        "import pandas as pd\n",
        "from sklearn.preprocessing import StandardScaler\n",
        "\n",
        "numeric_columns = df.drop(0,axis=1)\n",
        "\n",
        "# Initialize the StandardScaler\n",
        "scaler = StandardScaler()\n",
        "\n",
        "# Fit the scaler to the data and transform the data\n",
        "scaled_data = scaler.fit_transform(numeric_columns)\n",
        "\n",
        "# Create a DataFrame from the scaled data\n",
        "x = pd.DataFrame(scaled_data, columns=numeric_columns.columns)\n",
        "\n",
        "df=pd.concat([df[0],x],axis=1)\n",
        "df\n",
        "\n"
      ],
      "metadata": {
        "colab": {
          "base_uri": "https://localhost:8080/",
          "height": 424
        },
        "id": "w2WNna_SLjI7",
        "outputId": "09fd9c69-0ea2-4700-8cfb-57354fc93693"
      },
      "execution_count": 6,
      "outputs": [
        {
          "output_type": "execute_result",
          "data": {
            "text/plain": [
              "      0         1         2         3         4\n",
              "0     1 -0.185654 -0.569780 -1.064271  0.247786\n",
              "1     1  0.754890  1.132932  0.072285  0.189854\n",
              "2     1 -0.456973  0.630427 -0.818174  0.245410\n",
              "3     1 -0.319384  0.122528  0.351963  0.970722\n",
              "4     1  1.797858  1.888930  0.304556  1.175745\n",
              "...  ..       ...       ...       ...       ...\n",
              "3084  0 -0.436936 -0.843594  1.273475  0.613426\n",
              "3085  0 -0.441572 -1.041905 -0.673994 -1.479032\n",
              "3086  0 -0.254503 -0.778951  1.657510  0.265199\n",
              "3087  0 -0.303334 -0.949475  0.590524 -0.376850\n",
              "3088  0 -0.482869 -0.775785 -0.691639 -2.179302\n",
              "\n",
              "[3089 rows x 5 columns]"
            ],
            "text/html": [
              "\n",
              "  <div id=\"df-9f739d7c-7658-4da2-913d-a6f19ac7834a\" class=\"colab-df-container\">\n",
              "    <div>\n",
              "<style scoped>\n",
              "    .dataframe tbody tr th:only-of-type {\n",
              "        vertical-align: middle;\n",
              "    }\n",
              "\n",
              "    .dataframe tbody tr th {\n",
              "        vertical-align: top;\n",
              "    }\n",
              "\n",
              "    .dataframe thead th {\n",
              "        text-align: right;\n",
              "    }\n",
              "</style>\n",
              "<table border=\"1\" class=\"dataframe\">\n",
              "  <thead>\n",
              "    <tr style=\"text-align: right;\">\n",
              "      <th></th>\n",
              "      <th>0</th>\n",
              "      <th>1</th>\n",
              "      <th>2</th>\n",
              "      <th>3</th>\n",
              "      <th>4</th>\n",
              "    </tr>\n",
              "  </thead>\n",
              "  <tbody>\n",
              "    <tr>\n",
              "      <th>0</th>\n",
              "      <td>1</td>\n",
              "      <td>-0.185654</td>\n",
              "      <td>-0.569780</td>\n",
              "      <td>-1.064271</td>\n",
              "      <td>0.247786</td>\n",
              "    </tr>\n",
              "    <tr>\n",
              "      <th>1</th>\n",
              "      <td>1</td>\n",
              "      <td>0.754890</td>\n",
              "      <td>1.132932</td>\n",
              "      <td>0.072285</td>\n",
              "      <td>0.189854</td>\n",
              "    </tr>\n",
              "    <tr>\n",
              "      <th>2</th>\n",
              "      <td>1</td>\n",
              "      <td>-0.456973</td>\n",
              "      <td>0.630427</td>\n",
              "      <td>-0.818174</td>\n",
              "      <td>0.245410</td>\n",
              "    </tr>\n",
              "    <tr>\n",
              "      <th>3</th>\n",
              "      <td>1</td>\n",
              "      <td>-0.319384</td>\n",
              "      <td>0.122528</td>\n",
              "      <td>0.351963</td>\n",
              "      <td>0.970722</td>\n",
              "    </tr>\n",
              "    <tr>\n",
              "      <th>4</th>\n",
              "      <td>1</td>\n",
              "      <td>1.797858</td>\n",
              "      <td>1.888930</td>\n",
              "      <td>0.304556</td>\n",
              "      <td>1.175745</td>\n",
              "    </tr>\n",
              "    <tr>\n",
              "      <th>...</th>\n",
              "      <td>...</td>\n",
              "      <td>...</td>\n",
              "      <td>...</td>\n",
              "      <td>...</td>\n",
              "      <td>...</td>\n",
              "    </tr>\n",
              "    <tr>\n",
              "      <th>3084</th>\n",
              "      <td>0</td>\n",
              "      <td>-0.436936</td>\n",
              "      <td>-0.843594</td>\n",
              "      <td>1.273475</td>\n",
              "      <td>0.613426</td>\n",
              "    </tr>\n",
              "    <tr>\n",
              "      <th>3085</th>\n",
              "      <td>0</td>\n",
              "      <td>-0.441572</td>\n",
              "      <td>-1.041905</td>\n",
              "      <td>-0.673994</td>\n",
              "      <td>-1.479032</td>\n",
              "    </tr>\n",
              "    <tr>\n",
              "      <th>3086</th>\n",
              "      <td>0</td>\n",
              "      <td>-0.254503</td>\n",
              "      <td>-0.778951</td>\n",
              "      <td>1.657510</td>\n",
              "      <td>0.265199</td>\n",
              "    </tr>\n",
              "    <tr>\n",
              "      <th>3087</th>\n",
              "      <td>0</td>\n",
              "      <td>-0.303334</td>\n",
              "      <td>-0.949475</td>\n",
              "      <td>0.590524</td>\n",
              "      <td>-0.376850</td>\n",
              "    </tr>\n",
              "    <tr>\n",
              "      <th>3088</th>\n",
              "      <td>0</td>\n",
              "      <td>-0.482869</td>\n",
              "      <td>-0.775785</td>\n",
              "      <td>-0.691639</td>\n",
              "      <td>-2.179302</td>\n",
              "    </tr>\n",
              "  </tbody>\n",
              "</table>\n",
              "<p>3089 rows × 5 columns</p>\n",
              "</div>\n",
              "    <div class=\"colab-df-buttons\">\n",
              "\n",
              "  <div class=\"colab-df-container\">\n",
              "    <button class=\"colab-df-convert\" onclick=\"convertToInteractive('df-9f739d7c-7658-4da2-913d-a6f19ac7834a')\"\n",
              "            title=\"Convert this dataframe to an interactive table.\"\n",
              "            style=\"display:none;\">\n",
              "\n",
              "  <svg xmlns=\"http://www.w3.org/2000/svg\" height=\"24px\" viewBox=\"0 -960 960 960\">\n",
              "    <path d=\"M120-120v-720h720v720H120Zm60-500h600v-160H180v160Zm220 220h160v-160H400v160Zm0 220h160v-160H400v160ZM180-400h160v-160H180v160Zm440 0h160v-160H620v160ZM180-180h160v-160H180v160Zm440 0h160v-160H620v160Z\"/>\n",
              "  </svg>\n",
              "    </button>\n",
              "\n",
              "  <style>\n",
              "    .colab-df-container {\n",
              "      display:flex;\n",
              "      gap: 12px;\n",
              "    }\n",
              "\n",
              "    .colab-df-convert {\n",
              "      background-color: #E8F0FE;\n",
              "      border: none;\n",
              "      border-radius: 50%;\n",
              "      cursor: pointer;\n",
              "      display: none;\n",
              "      fill: #1967D2;\n",
              "      height: 32px;\n",
              "      padding: 0 0 0 0;\n",
              "      width: 32px;\n",
              "    }\n",
              "\n",
              "    .colab-df-convert:hover {\n",
              "      background-color: #E2EBFA;\n",
              "      box-shadow: 0px 1px 2px rgba(60, 64, 67, 0.3), 0px 1px 3px 1px rgba(60, 64, 67, 0.15);\n",
              "      fill: #174EA6;\n",
              "    }\n",
              "\n",
              "    .colab-df-buttons div {\n",
              "      margin-bottom: 4px;\n",
              "    }\n",
              "\n",
              "    [theme=dark] .colab-df-convert {\n",
              "      background-color: #3B4455;\n",
              "      fill: #D2E3FC;\n",
              "    }\n",
              "\n",
              "    [theme=dark] .colab-df-convert:hover {\n",
              "      background-color: #434B5C;\n",
              "      box-shadow: 0px 1px 3px 1px rgba(0, 0, 0, 0.15);\n",
              "      filter: drop-shadow(0px 1px 2px rgba(0, 0, 0, 0.3));\n",
              "      fill: #FFFFFF;\n",
              "    }\n",
              "  </style>\n",
              "\n",
              "    <script>\n",
              "      const buttonEl =\n",
              "        document.querySelector('#df-9f739d7c-7658-4da2-913d-a6f19ac7834a button.colab-df-convert');\n",
              "      buttonEl.style.display =\n",
              "        google.colab.kernel.accessAllowed ? 'block' : 'none';\n",
              "\n",
              "      async function convertToInteractive(key) {\n",
              "        const element = document.querySelector('#df-9f739d7c-7658-4da2-913d-a6f19ac7834a');\n",
              "        const dataTable =\n",
              "          await google.colab.kernel.invokeFunction('convertToInteractive',\n",
              "                                                    [key], {});\n",
              "        if (!dataTable) return;\n",
              "\n",
              "        const docLinkHtml = 'Like what you see? Visit the ' +\n",
              "          '<a target=\"_blank\" href=https://colab.research.google.com/notebooks/data_table.ipynb>data table notebook</a>'\n",
              "          + ' to learn more about interactive tables.';\n",
              "        element.innerHTML = '';\n",
              "        dataTable['output_type'] = 'display_data';\n",
              "        await google.colab.output.renderOutput(dataTable, element);\n",
              "        const docLink = document.createElement('div');\n",
              "        docLink.innerHTML = docLinkHtml;\n",
              "        element.appendChild(docLink);\n",
              "      }\n",
              "    </script>\n",
              "  </div>\n",
              "\n",
              "\n",
              "<div id=\"df-02ab110d-6290-48fa-80e2-c76b9b3b97b4\">\n",
              "  <button class=\"colab-df-quickchart\" onclick=\"quickchart('df-02ab110d-6290-48fa-80e2-c76b9b3b97b4')\"\n",
              "            title=\"Suggest charts\"\n",
              "            style=\"display:none;\">\n",
              "\n",
              "<svg xmlns=\"http://www.w3.org/2000/svg\" height=\"24px\"viewBox=\"0 0 24 24\"\n",
              "     width=\"24px\">\n",
              "    <g>\n",
              "        <path d=\"M19 3H5c-1.1 0-2 .9-2 2v14c0 1.1.9 2 2 2h14c1.1 0 2-.9 2-2V5c0-1.1-.9-2-2-2zM9 17H7v-7h2v7zm4 0h-2V7h2v10zm4 0h-2v-4h2v4z\"/>\n",
              "    </g>\n",
              "</svg>\n",
              "  </button>\n",
              "\n",
              "<style>\n",
              "  .colab-df-quickchart {\n",
              "      --bg-color: #E8F0FE;\n",
              "      --fill-color: #1967D2;\n",
              "      --hover-bg-color: #E2EBFA;\n",
              "      --hover-fill-color: #174EA6;\n",
              "      --disabled-fill-color: #AAA;\n",
              "      --disabled-bg-color: #DDD;\n",
              "  }\n",
              "\n",
              "  [theme=dark] .colab-df-quickchart {\n",
              "      --bg-color: #3B4455;\n",
              "      --fill-color: #D2E3FC;\n",
              "      --hover-bg-color: #434B5C;\n",
              "      --hover-fill-color: #FFFFFF;\n",
              "      --disabled-bg-color: #3B4455;\n",
              "      --disabled-fill-color: #666;\n",
              "  }\n",
              "\n",
              "  .colab-df-quickchart {\n",
              "    background-color: var(--bg-color);\n",
              "    border: none;\n",
              "    border-radius: 50%;\n",
              "    cursor: pointer;\n",
              "    display: none;\n",
              "    fill: var(--fill-color);\n",
              "    height: 32px;\n",
              "    padding: 0;\n",
              "    width: 32px;\n",
              "  }\n",
              "\n",
              "  .colab-df-quickchart:hover {\n",
              "    background-color: var(--hover-bg-color);\n",
              "    box-shadow: 0 1px 2px rgba(60, 64, 67, 0.3), 0 1px 3px 1px rgba(60, 64, 67, 0.15);\n",
              "    fill: var(--button-hover-fill-color);\n",
              "  }\n",
              "\n",
              "  .colab-df-quickchart-complete:disabled,\n",
              "  .colab-df-quickchart-complete:disabled:hover {\n",
              "    background-color: var(--disabled-bg-color);\n",
              "    fill: var(--disabled-fill-color);\n",
              "    box-shadow: none;\n",
              "  }\n",
              "\n",
              "  .colab-df-spinner {\n",
              "    border: 2px solid var(--fill-color);\n",
              "    border-color: transparent;\n",
              "    border-bottom-color: var(--fill-color);\n",
              "    animation:\n",
              "      spin 1s steps(1) infinite;\n",
              "  }\n",
              "\n",
              "  @keyframes spin {\n",
              "    0% {\n",
              "      border-color: transparent;\n",
              "      border-bottom-color: var(--fill-color);\n",
              "      border-left-color: var(--fill-color);\n",
              "    }\n",
              "    20% {\n",
              "      border-color: transparent;\n",
              "      border-left-color: var(--fill-color);\n",
              "      border-top-color: var(--fill-color);\n",
              "    }\n",
              "    30% {\n",
              "      border-color: transparent;\n",
              "      border-left-color: var(--fill-color);\n",
              "      border-top-color: var(--fill-color);\n",
              "      border-right-color: var(--fill-color);\n",
              "    }\n",
              "    40% {\n",
              "      border-color: transparent;\n",
              "      border-right-color: var(--fill-color);\n",
              "      border-top-color: var(--fill-color);\n",
              "    }\n",
              "    60% {\n",
              "      border-color: transparent;\n",
              "      border-right-color: var(--fill-color);\n",
              "    }\n",
              "    80% {\n",
              "      border-color: transparent;\n",
              "      border-right-color: var(--fill-color);\n",
              "      border-bottom-color: var(--fill-color);\n",
              "    }\n",
              "    90% {\n",
              "      border-color: transparent;\n",
              "      border-bottom-color: var(--fill-color);\n",
              "    }\n",
              "  }\n",
              "</style>\n",
              "\n",
              "  <script>\n",
              "    async function quickchart(key) {\n",
              "      const quickchartButtonEl =\n",
              "        document.querySelector('#' + key + ' button');\n",
              "      quickchartButtonEl.disabled = true;  // To prevent multiple clicks.\n",
              "      quickchartButtonEl.classList.add('colab-df-spinner');\n",
              "      try {\n",
              "        const charts = await google.colab.kernel.invokeFunction(\n",
              "            'suggestCharts', [key], {});\n",
              "      } catch (error) {\n",
              "        console.error('Error during call to suggestCharts:', error);\n",
              "      }\n",
              "      quickchartButtonEl.classList.remove('colab-df-spinner');\n",
              "      quickchartButtonEl.classList.add('colab-df-quickchart-complete');\n",
              "    }\n",
              "    (() => {\n",
              "      let quickchartButtonEl =\n",
              "        document.querySelector('#df-02ab110d-6290-48fa-80e2-c76b9b3b97b4 button');\n",
              "      quickchartButtonEl.style.display =\n",
              "        google.colab.kernel.accessAllowed ? 'block' : 'none';\n",
              "    })();\n",
              "  </script>\n",
              "</div>\n",
              "\n",
              "  <div id=\"id_9889bcca-fdae-4a67-92b8-4b2b57d0a7c0\">\n",
              "    <style>\n",
              "      .colab-df-generate {\n",
              "        background-color: #E8F0FE;\n",
              "        border: none;\n",
              "        border-radius: 50%;\n",
              "        cursor: pointer;\n",
              "        display: none;\n",
              "        fill: #1967D2;\n",
              "        height: 32px;\n",
              "        padding: 0 0 0 0;\n",
              "        width: 32px;\n",
              "      }\n",
              "\n",
              "      .colab-df-generate:hover {\n",
              "        background-color: #E2EBFA;\n",
              "        box-shadow: 0px 1px 2px rgba(60, 64, 67, 0.3), 0px 1px 3px 1px rgba(60, 64, 67, 0.15);\n",
              "        fill: #174EA6;\n",
              "      }\n",
              "\n",
              "      [theme=dark] .colab-df-generate {\n",
              "        background-color: #3B4455;\n",
              "        fill: #D2E3FC;\n",
              "      }\n",
              "\n",
              "      [theme=dark] .colab-df-generate:hover {\n",
              "        background-color: #434B5C;\n",
              "        box-shadow: 0px 1px 3px 1px rgba(0, 0, 0, 0.15);\n",
              "        filter: drop-shadow(0px 1px 2px rgba(0, 0, 0, 0.3));\n",
              "        fill: #FFFFFF;\n",
              "      }\n",
              "    </style>\n",
              "    <button class=\"colab-df-generate\" onclick=\"generateWithVariable('df')\"\n",
              "            title=\"Generate code using this dataframe.\"\n",
              "            style=\"display:none;\">\n",
              "\n",
              "  <svg xmlns=\"http://www.w3.org/2000/svg\" height=\"24px\"viewBox=\"0 0 24 24\"\n",
              "       width=\"24px\">\n",
              "    <path d=\"M7,19H8.4L18.45,9,17,7.55,7,17.6ZM5,21V16.75L18.45,3.32a2,2,0,0,1,2.83,0l1.4,1.43a1.91,1.91,0,0,1,.58,1.4,1.91,1.91,0,0,1-.58,1.4L9.25,21ZM18.45,9,17,7.55Zm-12,3A5.31,5.31,0,0,0,4.9,8.1,5.31,5.31,0,0,0,1,6.5,5.31,5.31,0,0,0,4.9,4.9,5.31,5.31,0,0,0,6.5,1,5.31,5.31,0,0,0,8.1,4.9,5.31,5.31,0,0,0,12,6.5,5.46,5.46,0,0,0,6.5,12Z\"/>\n",
              "  </svg>\n",
              "    </button>\n",
              "    <script>\n",
              "      (() => {\n",
              "      const buttonEl =\n",
              "        document.querySelector('#id_9889bcca-fdae-4a67-92b8-4b2b57d0a7c0 button.colab-df-generate');\n",
              "      buttonEl.style.display =\n",
              "        google.colab.kernel.accessAllowed ? 'block' : 'none';\n",
              "\n",
              "      buttonEl.onclick = () => {\n",
              "        google.colab.notebook.generateWithVariable('df');\n",
              "      }\n",
              "      })();\n",
              "    </script>\n",
              "  </div>\n",
              "\n",
              "    </div>\n",
              "  </div>\n"
            ],
            "application/vnd.google.colaboratory.intrinsic+json": {
              "type": "dataframe",
              "variable_name": "df",
              "summary": "{\n  \"name\": \"df\",\n  \"rows\": 3089,\n  \"fields\": [\n    {\n      \"column\": 0,\n      \"properties\": {\n        \"dtype\": \"number\",\n        \"std\": 0,\n        \"min\": 0,\n        \"max\": 1,\n        \"num_unique_values\": 2,\n        \"samples\": [\n          0,\n          1\n        ],\n        \"semantic_type\": \"\",\n        \"description\": \"\"\n      }\n    },\n    {\n      \"column\": 1,\n      \"properties\": {\n        \"dtype\": \"number\",\n        \"std\": 1.0001619039919942,\n        \"min\": -0.9822920662348879,\n        \"max\": 8.059133951638206,\n        \"num_unique_values\": 2970,\n        \"samples\": [\n          -0.9005280507672409,\n          0.7634135638436619\n        ],\n        \"semantic_type\": \"\",\n        \"description\": \"\"\n      }\n    },\n    {\n      \"column\": 2,\n      \"properties\": {\n        \"dtype\": \"number\",\n        \"std\": 1.0001619039919942,\n        \"min\": -1.2341807237713338,\n        \"max\": 4.900767920551554,\n        \"num_unique_values\": 3020,\n        \"samples\": [\n          1.4631512861474667,\n          -0.16643167974299095\n        ],\n        \"semantic_type\": \"\",\n        \"description\": \"\"\n      }\n    },\n    {\n      \"column\": 3,\n      \"properties\": {\n        \"dtype\": \"number\",\n        \"std\": 1.0001619039919942,\n        \"min\": -3.386345974966678,\n        \"max\": 2.674889510855332,\n        \"num_unique_values\": 3024,\n        \"samples\": [\n          1.3981722770373355,\n          0.5650102994431087\n        ],\n        \"semantic_type\": \"\",\n        \"description\": \"\"\n      }\n    },\n    {\n      \"column\": 4,\n      \"properties\": {\n        \"dtype\": \"number\",\n        \"std\": 1.0001619039919944,\n        \"min\": -2.816747573828432,\n        \"max\": 1.6856002656130984,\n        \"num_unique_values\": 2923,\n        \"samples\": [\n          -0.19277134447588534,\n          -0.9173635867777513\n        ],\n        \"semantic_type\": \"\",\n        \"description\": \"\"\n      }\n    }\n  ]\n}"
            }
          },
          "metadata": {},
          "execution_count": 6
        }
      ]
    },
    {
      "cell_type": "code",
      "source": [
        "import pandas as pd\n",
        "yes = df[df[0] == 1]\n",
        "no = df[df[0] == 0]\n",
        "import random\n",
        "random.seed(41)\n",
        "# Sample from each subset to get the desired number of samples\n",
        "sampled_yes = yes.sample(n=min(40, len(yes)), replace=False)\n",
        "sampled_no = no.sample(n=min(20, len(no)), replace=False)\n",
        "\n",
        "# Concatenate the sampled subsets into a single DataFrame\n",
        "Xy1 = pd.concat([sampled_yes, sampled_no])\n",
        "X1=Xy1.drop(0,axis=1)"
      ],
      "metadata": {
        "id": "bwwkmdJFORfa"
      },
      "execution_count": 7,
      "outputs": []
    },
    {
      "cell_type": "code",
      "source": [
        "import pandas as pd\n",
        "import random\n",
        "def unlabel_data(df, percentage_to_unlabel):\n",
        "  num_to_unlabel = int(len(df) * percentage_to_unlabel)\n",
        "  indices_to_unlabel = random.sample(range(len(df)), num_to_unlabel)\n",
        "  df.loc[indices_to_unlabel, 0] = None # Replace with your label column name\n",
        "  return df\n",
        "# Unlabel 70% of the data\n",
        "df1 = unlabel_data(df.copy(), 0.7)"
      ],
      "metadata": {
        "id": "1IZlP6FDQ718"
      },
      "execution_count": 8,
      "outputs": []
    },
    {
      "cell_type": "code",
      "source": [
        "import numpy as np\n",
        "import multiprocessing\n",
        "\n",
        "def compute_distance(i, data1, data2):\n",
        "    distances = np.zeros(data2.shape[0], dtype=np.float32)\n",
        "    for j in range(data2.shape[0]):\n",
        "        distances[j] = np.exp(-0.5*np.linalg.norm(data1.iloc[i] - data2.iloc[j])**2)\n",
        "    return distances\n",
        "\n",
        "def distance_matrix_parallel(data1, data2):\n",
        "    num_samples1 = data1.shape[0]\n",
        "    num_samples2 = data2.shape[0]\n",
        "    num_processes = multiprocessing.cpu_count()\n",
        "    pool = multiprocessing.Pool(processes=num_processes)\n",
        "    results = [pool.apply_async(compute_distance, args=(i, data1, data2)) for i in range(num_samples1)]\n",
        "    distance_matrix = np.array([result.get() for result in results])\n",
        "    return distance_matrix\n",
        "\n",
        "W = distance_matrix_parallel(X1, X1)\n",
        "W"
      ],
      "metadata": {
        "colab": {
          "base_uri": "https://localhost:8080/"
        },
        "id": "_xtEmTq_O7FM",
        "outputId": "7e0086db-887e-4826-c373-6418e8353dfe"
      },
      "execution_count": 26,
      "outputs": [
        {
          "output_type": "execute_result",
          "data": {
            "text/plain": [
              "array([[1.0000000e+00, 8.9774770e-01, 4.8093248e-11, ..., 2.3276375e-01,\n",
              "        7.6607043e-01, 4.6425694e-01],\n",
              "       [8.9774770e-01, 1.0000000e+00, 6.7692130e-10, ..., 2.1317962e-01,\n",
              "        5.4258639e-01, 4.2657197e-01],\n",
              "       [4.8093248e-11, 6.7692130e-10, 1.0000000e+00, ..., 1.8173830e-13,\n",
              "        8.7152976e-12, 1.2532381e-12],\n",
              "       ...,\n",
              "       [2.3276375e-01, 2.1317962e-01, 1.8173830e-13, ..., 1.0000000e+00,\n",
              "        9.7351082e-02, 8.9562631e-01],\n",
              "       [7.6607043e-01, 5.4258639e-01, 8.7152976e-12, ..., 9.7351082e-02,\n",
              "        1.0000000e+00, 2.2795691e-01],\n",
              "       [4.6425694e-01, 4.2657197e-01, 1.2532381e-12, ..., 8.9562631e-01,\n",
              "        2.2795691e-01, 1.0000000e+00]], dtype=float32)"
            ]
          },
          "metadata": {},
          "execution_count": 26
        }
      ]
    },
    {
      "cell_type": "code",
      "source": [
        "W1=distance_matrix_parallel(x,X1)\n",
        "K = np.dot(np.dot(W1, np.linalg.inv(W)), W1.T)\n",
        "row_sums = np.sum(K, axis=1)\n",
        "# Create a diagonal matrix D with row_sums as diagonal elements\n",
        "D = np.diag(row_sums)"
      ],
      "metadata": {
        "id": "e1Q7D31FQfZY"
      },
      "execution_count": 10,
      "outputs": []
    },
    {
      "cell_type": "code",
      "source": [
        "S = D-K\n",
        "H=W1\n",
        "# Filter rows with non-null values in the first column\n",
        "dfl = df1.loc[pd.notnull(df1.iloc[:, 0])]\n",
        "# Filter rows with null values in the first column\n",
        "dfu = df1.loc[pd.isnull(df1.iloc[:, 0])]\n",
        "xl=dfl.drop(0,axis=1)\n",
        "xu=dfu.drop(0,axis=1)\n",
        "Hl=distance_matrix_parallel(xl,X1)"
      ],
      "metadata": {
        "id": "x94Tql92QoWQ"
      },
      "execution_count": 11,
      "outputs": []
    },
    {
      "cell_type": "code",
      "source": [
        "Hu=distance_matrix_parallel(xu,X1)\n",
        "x3=dfl.drop(0,axis=1)"
      ],
      "metadata": {
        "id": "gLNx8pyrRdqV"
      },
      "execution_count": 12,
      "outputs": []
    },
    {
      "cell_type": "code",
      "source": [
        "W1l=Hl"
      ],
      "metadata": {
        "id": "f9tHbColRrCw"
      },
      "execution_count": 13,
      "outputs": []
    },
    {
      "cell_type": "code",
      "source": [
        "def response_matrix(data):\n",
        "  num_samples=len(data)\n",
        "  response_matrix = np.zeros((num_samples, 2), dtype=np.float32)\n",
        "  for i in range(num_samples):\n",
        "    if data.iloc[i]==0:\n",
        "      response_matrix[i, 0] = 1\n",
        "      response_matrix[i,1]=0\n",
        "    elif data.iloc[i]==1:\n",
        "      response_matrix[i, 0] = 0\n",
        "      response_matrix[i,1]=1\n",
        "  return response_matrix\n",
        "yl=dfl.iloc[:,0]\n",
        "Yl= response_matrix(yl)"
      ],
      "metadata": {
        "id": "fnx06kGoR29N"
      },
      "execution_count": 14,
      "outputs": []
    },
    {
      "cell_type": "code",
      "source": [
        "import numpy as np\n",
        "M1 = np.dot(np.dot(H.T, S), H)+ 10000* np.dot(Hl.T, Hl) + 0* np.dot(Hu.T, Hu)\n",
        "M2 = np.linalg.inv(M1)\n",
        "M3 = np.dot(W1l.T, Yl)\n",
        "# Step 2: Compute final result\n",
        "fv = np.dot(M2, M3)\n",
        "f=np.dot(H,fv)"
      ],
      "metadata": {
        "id": "_rk7r7lzSi9k"
      },
      "execution_count": 15,
      "outputs": []
    },
    {
      "cell_type": "code",
      "source": [
        "y_pred=[]\n",
        "for i in range(3089):\n",
        "  if f[i,0]>f[i,1]:\n",
        "    y_pred.append(0)\n",
        "  else:\n",
        "    y_pred.append(1)\n",
        "# Create a confusion matrix\n",
        "from sklearn.metrics import confusion_matrix\n",
        "conf_matrix = confusion_matrix(df.iloc[:,0],y_pred)\n",
        "print(\"Confusion Matrix:\")\n",
        "print(conf_matrix)"
      ],
      "metadata": {
        "colab": {
          "base_uri": "https://localhost:8080/"
        },
        "id": "y2rXgzV-SvKP",
        "outputId": "305e7161-f61b-4d2a-b6c7-f8207577e8e8"
      },
      "execution_count": 16,
      "outputs": [
        {
          "output_type": "stream",
          "name": "stdout",
          "text": [
            "Confusion Matrix:\n",
            "[[1043   46]\n",
            " [  65 1935]]\n"
          ]
        }
      ]
    },
    {
      "cell_type": "code",
      "source": [
        "import numpy as np\n",
        "import multiprocessing\n",
        "\n",
        "def compute_distance(i, data1, data2):\n",
        "    distances = np.zeros(data2.shape[0], dtype=np.float32)\n",
        "    for j in range(data2.shape[0]):\n",
        "        distances[j] = np.exp(-0.5 * (np.linalg.norm(data1.iloc[i] - data2.iloc[j], ord=1))**2)\n",
        "    return distances\n",
        "\n",
        "def distance_matrix_parallel(data1, data2):\n",
        "    num_samples1 = data1.shape[0]\n",
        "    num_samples2 = data2.shape[0]\n",
        "    num_processes = multiprocessing.cpu_count()\n",
        "    pool = multiprocessing.Pool(processes=num_processes)\n",
        "    results = [pool.apply_async(compute_distance, args=(i, data1, data2)) for i in range(num_samples1)]\n",
        "    distance_matrix = np.array([result.get() for result in results])\n",
        "    return distance_matrix\n",
        "\n",
        "# Assuming X1 is your first dataset and X2 is your second dataset\n",
        "W = distance_matrix_parallel(X1, X1)"
      ],
      "metadata": {
        "id": "10qG2UT6TuUr"
      },
      "execution_count": 17,
      "outputs": []
    },
    {
      "cell_type": "code",
      "source": [
        "W1=distance_matrix_parallel(x,X1)\n",
        "K = np.dot(np.dot(W1, np.linalg.inv(W)), W1.T)\n",
        "row_sums = np.sum(K, axis=1)\n",
        "# Create a diagonal matrix D with row_sums as diagonal elements\n",
        "D = np.diag(row_sums)"
      ],
      "metadata": {
        "id": "75UiSXeNVEL3"
      },
      "execution_count": 18,
      "outputs": []
    },
    {
      "cell_type": "code",
      "source": [
        "S = D-K\n",
        "H=W1\n",
        "# Filter rows with non-null values in the first column\n",
        "dfl = df1.loc[pd.notnull(df1.iloc[:, 0])]\n",
        "# Filter rows with null values in the first column\n",
        "dfu = df1.loc[pd.isnull(df1.iloc[:, 0])]\n",
        "xl=dfl.drop(0,axis=1)\n",
        "xu=dfu.drop(0,axis=1)\n",
        "Hl=distance_matrix_parallel(xl,X1)"
      ],
      "metadata": {
        "id": "HSuNuYLDaDWU"
      },
      "execution_count": 19,
      "outputs": []
    },
    {
      "cell_type": "code",
      "source": [
        "Hu=distance_matrix_parallel(xu,X1)\n",
        "x3=dfl.drop(0,axis=1)"
      ],
      "metadata": {
        "id": "osdGpjiRTVXo"
      },
      "execution_count": 20,
      "outputs": []
    },
    {
      "cell_type": "code",
      "source": [
        "W1l=Hl"
      ],
      "metadata": {
        "id": "o2-UW9aqTZac"
      },
      "execution_count": 21,
      "outputs": []
    },
    {
      "cell_type": "code",
      "source": [
        "def response_matrix(data):\n",
        "  num_samples=len(data)\n",
        "  response_matrix = np.zeros((num_samples, 2), dtype=np.float32)\n",
        "  for i in range(num_samples):\n",
        "    if data.iloc[i]==0:\n",
        "      response_matrix[i, 0] = 1\n",
        "      response_matrix[i,1]=0\n",
        "    elif data.iloc[i]==1:\n",
        "      response_matrix[i, 0] = 0\n",
        "      response_matrix[i,1]=1\n",
        "  return response_matrix\n",
        "yl=dfl.iloc[:,0]\n",
        "Yl= response_matrix(yl)"
      ],
      "metadata": {
        "id": "SyYoeNYRTdJf"
      },
      "execution_count": 22,
      "outputs": []
    },
    {
      "cell_type": "code",
      "source": [
        "import numpy as np\n",
        "M1 = np.dot(np.dot(H.T, S), H)+ 10000* np.dot(Hl.T, Hl) + 0* np.dot(Hu.T, Hu)\n",
        "M2 = np.linalg.inv(M1)\n",
        "M3 = np.dot(W1l.T, Yl)\n",
        "# Step 2: Compute final result\n",
        "fv = np.dot(M2, M3)\n",
        "f=np.dot(H,fv)"
      ],
      "metadata": {
        "id": "q6Nxs8VkTij7"
      },
      "execution_count": 23,
      "outputs": []
    },
    {
      "cell_type": "code",
      "source": [
        "y_pred=[]\n",
        "for i in range(3089):\n",
        "  if f[i,0]>f[i,1]:\n",
        "    y_pred.append(0)\n",
        "  else:\n",
        "    y_pred.append(1)\n",
        "# Create a confusion matrix\n",
        "from sklearn.metrics import confusion_matrix\n",
        "conf_matrix = confusion_matrix(df.iloc[:,0],y_pred)\n",
        "print(\"Confusion Matrix:\")\n",
        "print(conf_matrix)"
      ],
      "metadata": {
        "colab": {
          "base_uri": "https://localhost:8080/"
        },
        "id": "LCfPxLCXTpvQ",
        "outputId": "4e658ca6-9252-4650-a52c-5de12ad032d2"
      },
      "execution_count": 24,
      "outputs": [
        {
          "output_type": "stream",
          "name": "stdout",
          "text": [
            "Confusion Matrix:\n",
            "[[1019   70]\n",
            " [  77 1923]]\n"
          ]
        }
      ]
    },
    {
      "cell_type": "code",
      "source": [],
      "metadata": {
        "id": "cy8C54FUTt29"
      },
      "execution_count": 24,
      "outputs": []
    },
    {
      "cell_type": "code",
      "source": [
        "n=[15,30,60,120,180,360,720]\n",
        "acc=[]\n",
        "import time\n",
        "time_taken=[]\n",
        "for i in n:\n",
        "  random.seed(41)\n",
        "  start=time.time()\n",
        "# Sample from each subset to get the desired number of samples\n",
        "  sampled_yes = yes.sample(n=min(int(2*i/3), len(yes)), replace=False)\n",
        "  sampled_no = no.sample(n=min(int(i/3), len(no)), replace=False)\n",
        "\n",
        "  # Concatenate the sampled subsets into a single DataFrame\n",
        "  Xy1 = pd.concat([sampled_yes, sampled_no])\n",
        "  X1=Xy1.drop(0,axis=1)\n",
        "  W = distance_matrix_parallel(X1, X1)\n",
        "  W1=distance_matrix_parallel(x,X1)\n",
        "  K = np.dot(np.dot(W1, np.linalg.inv(W)), W1.T)\n",
        "  row_sums = np.sum(K, axis=1)\n",
        "  # Create a diagonal matrix D with row_sums as diagonal elements\n",
        "  D = np.diag(row_sums)\n",
        "  S = D-K\n",
        "  H=W1\n",
        "  # Filter rows with non-null values in the first column\n",
        "  dfl = df1.loc[pd.notnull(df1.iloc[:, 0])]\n",
        "  # Filter rows with null values in the first column\n",
        "  dfu = df1.loc[pd.isnull(df1.iloc[:, 0])]\n",
        "  xl=dfl.drop(0,axis=1)\n",
        "  xu=dfu.drop(0,axis=1)\n",
        "  Hl=distance_matrix_parallel(xl,X1)\n",
        "  Hu=distance_matrix_parallel(xu,X1)\n",
        "  x3=dfl.drop(0,axis=1)\n",
        "  W1l=Hl\n",
        "  import numpy as np\n",
        "  M1 = np.dot(np.dot(H.T, S), H)+ 10000* np.dot(Hl.T, Hl) + 0* np.dot(Hu.T, Hu)\n",
        "  M2 = np.linalg.inv(M1)\n",
        "  M3 = np.dot(W1l.T, Yl)\n",
        "  # Step 2: Compute final result\n",
        "  fv = np.dot(M2, M3)\n",
        "  f=np.dot(H,fv)\n",
        "  y_pred=[]\n",
        "  for i in range(3089):\n",
        "    if f[i,0]>f[i,1]:\n",
        "      y_pred.append(0)\n",
        "    else:\n",
        "      y_pred.append(1)\n",
        "  # Create a confusion matrix\n",
        "  from sklearn.metrics import confusion_matrix\n",
        "  conf_matrix = confusion_matrix(df.iloc[:,0],y_pred)\n",
        "  accuracy=(conf_matrix[0][0]+conf_matrix[1][1])/3089\n",
        "  acc.append(accuracy)\n",
        "  print(accuracy)\n",
        "  end=time.time()\n",
        "  t=end-start\n",
        "  time_taken.append(t)\n",
        "  print(t)"
      ],
      "metadata": {
        "id": "TKWYBK69U6_D",
        "colab": {
          "base_uri": "https://localhost:8080/"
        },
        "outputId": "8ed4aad6-5b0c-4a98-8da4-b67f830707b3"
      },
      "execution_count": 30,
      "outputs": [
        {
          "output_type": "stream",
          "name": "stdout",
          "text": [
            "0.9339592101003561\n",
            "41.215752601623535\n",
            "0.9575914535448365\n",
            "62.5544855594635\n",
            "0.9575914535448365\n",
            "111.28353643417358\n",
            "0.7345419229524118\n",
            "221.81736016273499\n",
            "0.5380382000647459\n",
            "294.923800945282\n",
            "0.5325348009064422\n",
            "586.4959621429443\n",
            "0.4308837811589511\n",
            "1257.2684581279755\n"
          ]
        }
      ]
    },
    {
      "cell_type": "code",
      "source": [
        "N=[200,400,600,800,1000,1200,1400,1600,1800,2000,2200,2400,2600,2800,3000]\n",
        "T=[]\n",
        "for i in N:\n",
        "  start=time.time()\n",
        "  df=pd.read_csv('/content/drive/MyDrive/SVM.csv',header=None,delimiter=' ',nrows=i)\n",
        "  x= df.drop(0,axis=1)\n",
        "  y=df.iloc[:,0]\n",
        "\n",
        "  import pandas as pd\n",
        "  from sklearn.preprocessing import StandardScaler\n",
        "\n",
        "  numeric_columns = df.drop(0,axis=1)\n",
        "\n",
        "  # Initialize the StandardScaler\n",
        "  scaler = StandardScaler()\n",
        "\n",
        "  # Fit the scaler to the data and transform the data\n",
        "  scaled_data = scaler.fit_transform(numeric_columns)\n",
        "\n",
        "  # Create a DataFrame from the scaled data\n",
        "  x = pd.DataFrame(scaled_data, columns=numeric_columns.columns)\n",
        "\n",
        "  df=pd.concat([df[0],x],axis=1)\n",
        "  yes = df[df[0] == 1]\n",
        "  no = df[df[0] == 0]\n",
        "  import random\n",
        "  random.seed(41)\n",
        "  # Sample from each subset to get the desired number of samples\n",
        "  sampled_yes = yes.sample(n=min(40, len(yes)), replace=False)\n",
        "  sampled_no = no.sample(n=min(20, len(no)), replace=False)\n",
        "\n",
        "  # Concatenate the sampled subsets into a single DataFrame\n",
        "  Xy1 = pd.concat([sampled_yes, sampled_no])\n",
        "  X1=Xy1.drop(0,axis=1)\n",
        "  df1 = unlabel_data(df.copy(), 0.7)\n",
        "  W = distance_matrix_parallel(X1, X1)\n",
        "  W1=distance_matrix_parallel(x,X1)\n",
        "  K = np.dot(np.dot(W1, np.linalg.inv(W)), W1.T)\n",
        "  row_sums = np.sum(K, axis=1)\n",
        "  # Create a diagonal matrix D with row_sums as diagonal elements\n",
        "  D = np.diag(row_sums)\n",
        "  S = D-K\n",
        "  H=W1\n",
        "  # Filter rows with non-null values in the first column\n",
        "  dfl = df1.loc[pd.notnull(df1.iloc[:, 0])]\n",
        "  # Filter rows with null values in the first column\n",
        "  dfu = df1.loc[pd.isnull(df1.iloc[:, 0])]\n",
        "  xl=dfl.drop(0,axis=1)\n",
        "  xu=dfu.drop(0,axis=1)\n",
        "  Hl=distance_matrix_parallel(xl,X1)\n",
        "  Hu=distance_matrix_parallel(xu,X1)\n",
        "  x3=dfl.drop(0,axis=1)\n",
        "  W1l=Hl\n",
        "  import numpy as np\n",
        "  M1 = np.dot(np.dot(H.T, S), H)+ 10000* np.dot(Hl.T, Hl) + 0* np.dot(Hu.T, Hu)\n",
        "  M2 = np.linalg.inv(M1)\n",
        "  yl=dfl.iloc[:,0]\n",
        "  Yl= response_matrix(yl)\n",
        "  M3 = np.dot(W1l.T, Yl)\n",
        "  # Step 2: Compute final result\n",
        "  fv = np.dot(M2, M3)\n",
        "  f=np.dot(H,fv)\n",
        "  end=time.time()\n",
        "  t=end-start\n",
        "  T.append(t)\n",
        "  print(t)"
      ],
      "metadata": {
        "colab": {
          "base_uri": "https://localhost:8080/"
        },
        "id": "VcwXAQ-DkwT5",
        "outputId": "a6d246fb-56d4-4ce5-e69c-c98de5ae67ef"
      },
      "execution_count": 36,
      "outputs": [
        {
          "output_type": "stream",
          "name": "stdout",
          "text": [
            "8.140102624893188\n",
            "16.611724376678467\n",
            "15.030032396316528\n",
            "21.322343826293945\n",
            "25.40728449821472\n",
            "29.860891580581665\n",
            "36.65178298950195\n",
            "41.12011933326721\n",
            "47.30394196510315\n",
            "56.23492693901062\n",
            "80.34986567497253\n",
            "83.78724431991577\n",
            "93.643061876297\n",
            "99.40019607543945\n",
            "105.06329870223999\n"
          ]
        }
      ]
    },
    {
      "cell_type": "code",
      "source": [
        "plt.plot(N,T)\n",
        "plt.xlabel('Sample Size')\n",
        "plt.ylabel('Time(sec)')"
      ],
      "metadata": {
        "colab": {
          "base_uri": "https://localhost:8080/",
          "height": 466
        },
        "id": "RH2CuDOMlYOP",
        "outputId": "c328c091-1105-42d0-c890-b37e6c3b6daa"
      },
      "execution_count": 37,
      "outputs": [
        {
          "output_type": "execute_result",
          "data": {
            "text/plain": [
              "Text(0, 0.5, 'Time(sec)')"
            ]
          },
          "metadata": {},
          "execution_count": 37
        },
        {
          "output_type": "display_data",
          "data": {
            "text/plain": [
              "<Figure size 640x480 with 1 Axes>"
            ],
            "image/png": "[encoded data removed]"
          },
          "metadata": {}
        }
      ]
    },
    {
      "cell_type": "code",
      "source": [],
      "metadata": {
        "id": "GkAIfMbQlcEl"
      },
      "execution_count": null,
      "outputs": []
    }
  ]
}